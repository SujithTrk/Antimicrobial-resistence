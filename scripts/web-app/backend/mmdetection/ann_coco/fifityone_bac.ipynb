{
 "cells": [
  {
   "cell_type": "code",
   "execution_count": 2,
   "metadata": {},
   "outputs": [
    {
     "ename": "ConnectionError",
     "evalue": "Could not connect to `mongod`",
     "output_type": "error",
     "traceback": [
      "\u001b[0;31m---------------------------------------------------------------------------\u001b[0m",
      "\u001b[0;31mServerSelectionTimeoutError\u001b[0m               Traceback (most recent call last)",
      "File \u001b[0;32m~/anaconda3/envs/senior_env/lib/python3.9/site-packages/fiftyone/core/odm/database.py:254\u001b[0m, in \u001b[0;36m_validate_db_version\u001b[0;34m(config, client)\u001b[0m\n\u001b[1;32m    253\u001b[0m \u001b[39mtry\u001b[39;00m:\n\u001b[0;32m--> 254\u001b[0m     version \u001b[39m=\u001b[39m Version(client\u001b[39m.\u001b[39;49mserver_info()[\u001b[39m\"\u001b[39m\u001b[39mversion\u001b[39m\u001b[39m\"\u001b[39m])\n\u001b[1;32m    255\u001b[0m \u001b[39mexcept\u001b[39;00m \u001b[39mException\u001b[39;00m \u001b[39mas\u001b[39;00m e:\n",
      "File \u001b[0;32m~/anaconda3/envs/senior_env/lib/python3.9/site-packages/pymongo/mongo_client.py:1994\u001b[0m, in \u001b[0;36mMongoClient.server_info\u001b[0;34m(self, session)\u001b[0m\n\u001b[1;32m   1985\u001b[0m \u001b[39m\"\"\"Get information about the MongoDB server we're connected to.\u001b[39;00m\n\u001b[1;32m   1986\u001b[0m \n\u001b[1;32m   1987\u001b[0m \u001b[39m:Parameters:\u001b[39;00m\n\u001b[0;32m   (...)\u001b[0m\n\u001b[1;32m   1992\u001b[0m \u001b[39m   Added ``session`` parameter.\u001b[39;00m\n\u001b[1;32m   1993\u001b[0m \u001b[39m\"\"\"\u001b[39;00m\n\u001b[0;32m-> 1994\u001b[0m \u001b[39mreturn\u001b[39;00m \u001b[39mself\u001b[39;49m\u001b[39m.\u001b[39;49madmin\u001b[39m.\u001b[39;49mcommand(\u001b[39m\"\u001b[39;49m\u001b[39mbuildinfo\u001b[39;49m\u001b[39m\"\u001b[39;49m,\n\u001b[1;32m   1995\u001b[0m                           read_preference\u001b[39m=\u001b[39;49mReadPreference\u001b[39m.\u001b[39;49mPRIMARY,\n\u001b[1;32m   1996\u001b[0m                           session\u001b[39m=\u001b[39;49msession)\n",
      "File \u001b[0;32m~/anaconda3/envs/senior_env/lib/python3.9/site-packages/pymongo/database.py:757\u001b[0m, in \u001b[0;36mDatabase.command\u001b[0;34m(self, command, value, check, allowable_errors, read_preference, codec_options, session, **kwargs)\u001b[0m\n\u001b[1;32m    755\u001b[0m     read_preference \u001b[39m=\u001b[39m ((session \u001b[39mand\u001b[39;00m session\u001b[39m.\u001b[39m_txn_read_preference())\n\u001b[1;32m    756\u001b[0m                        \u001b[39mor\u001b[39;00m ReadPreference\u001b[39m.\u001b[39mPRIMARY)\n\u001b[0;32m--> 757\u001b[0m \u001b[39mwith\u001b[39;00m \u001b[39mself\u001b[39m\u001b[39m.\u001b[39m__client\u001b[39m.\u001b[39m_socket_for_reads(\n\u001b[1;32m    758\u001b[0m         read_preference, session) \u001b[39mas\u001b[39;00m (sock_info, secondary_ok):\n\u001b[1;32m    759\u001b[0m     \u001b[39mreturn\u001b[39;00m \u001b[39mself\u001b[39m\u001b[39m.\u001b[39m_command(sock_info, command, secondary_ok, value,\n\u001b[1;32m    760\u001b[0m                          check, allowable_errors, read_preference,\n\u001b[1;32m    761\u001b[0m                          codec_options, session\u001b[39m=\u001b[39msession, \u001b[39m*\u001b[39m\u001b[39m*\u001b[39mkwargs)\n",
      "File \u001b[0;32m~/anaconda3/envs/senior_env/lib/python3.9/contextlib.py:119\u001b[0m, in \u001b[0;36m_GeneratorContextManager.__enter__\u001b[0;34m(self)\u001b[0m\n\u001b[1;32m    118\u001b[0m \u001b[39mtry\u001b[39;00m:\n\u001b[0;32m--> 119\u001b[0m     \u001b[39mreturn\u001b[39;00m \u001b[39mnext\u001b[39;49m(\u001b[39mself\u001b[39;49m\u001b[39m.\u001b[39;49mgen)\n\u001b[1;32m    120\u001b[0m \u001b[39mexcept\u001b[39;00m \u001b[39mStopIteration\u001b[39;00m:\n",
      "File \u001b[0;32m~/anaconda3/envs/senior_env/lib/python3.9/site-packages/pymongo/mongo_client.py:1387\u001b[0m, in \u001b[0;36mMongoClient._socket_for_reads\u001b[0;34m(self, read_preference, session)\u001b[0m\n\u001b[1;32m   1386\u001b[0m single \u001b[39m=\u001b[39m topology\u001b[39m.\u001b[39mdescription\u001b[39m.\u001b[39mtopology_type \u001b[39m==\u001b[39m TOPOLOGY_TYPE\u001b[39m.\u001b[39mSingle\n\u001b[0;32m-> 1387\u001b[0m server \u001b[39m=\u001b[39m \u001b[39mself\u001b[39;49m\u001b[39m.\u001b[39;49m_select_server(read_preference, session)\n\u001b[1;32m   1389\u001b[0m \u001b[39mwith\u001b[39;00m \u001b[39mself\u001b[39m\u001b[39m.\u001b[39m_get_socket(server, session) \u001b[39mas\u001b[39;00m sock_info:\n",
      "File \u001b[0;32m~/anaconda3/envs/senior_env/lib/python3.9/site-packages/pymongo/mongo_client.py:1346\u001b[0m, in \u001b[0;36mMongoClient._select_server\u001b[0;34m(self, server_selector, session, address)\u001b[0m\n\u001b[1;32m   1345\u001b[0m \u001b[39melse\u001b[39;00m:\n\u001b[0;32m-> 1346\u001b[0m     server \u001b[39m=\u001b[39m topology\u001b[39m.\u001b[39;49mselect_server(server_selector)\n\u001b[1;32m   1347\u001b[0m \u001b[39mreturn\u001b[39;00m server\n",
      "File \u001b[0;32m~/anaconda3/envs/senior_env/lib/python3.9/site-packages/pymongo/topology.py:244\u001b[0m, in \u001b[0;36mTopology.select_server\u001b[0;34m(self, selector, server_selection_timeout, address)\u001b[0m\n\u001b[1;32m    243\u001b[0m \u001b[39m\"\"\"Like select_servers, but choose a random server if several match.\"\"\"\u001b[39;00m\n\u001b[0;32m--> 244\u001b[0m \u001b[39mreturn\u001b[39;00m random\u001b[39m.\u001b[39mchoice(\u001b[39mself\u001b[39;49m\u001b[39m.\u001b[39;49mselect_servers(selector,\n\u001b[1;32m    245\u001b[0m                                          server_selection_timeout,\n\u001b[1;32m    246\u001b[0m                                          address))\n",
      "File \u001b[0;32m~/anaconda3/envs/senior_env/lib/python3.9/site-packages/pymongo/topology.py:202\u001b[0m, in \u001b[0;36mTopology.select_servers\u001b[0;34m(self, selector, server_selection_timeout, address)\u001b[0m\n\u001b[1;32m    201\u001b[0m \u001b[39mwith\u001b[39;00m \u001b[39mself\u001b[39m\u001b[39m.\u001b[39m_lock:\n\u001b[0;32m--> 202\u001b[0m     server_descriptions \u001b[39m=\u001b[39m \u001b[39mself\u001b[39;49m\u001b[39m.\u001b[39;49m_select_servers_loop(\n\u001b[1;32m    203\u001b[0m         selector, server_timeout, address)\n\u001b[1;32m    205\u001b[0m     \u001b[39mreturn\u001b[39;00m [\u001b[39mself\u001b[39m\u001b[39m.\u001b[39mget_server_by_address(sd\u001b[39m.\u001b[39maddress)\n\u001b[1;32m    206\u001b[0m             \u001b[39mfor\u001b[39;00m sd \u001b[39min\u001b[39;00m server_descriptions]\n",
      "File \u001b[0;32m~/anaconda3/envs/senior_env/lib/python3.9/site-packages/pymongo/topology.py:218\u001b[0m, in \u001b[0;36mTopology._select_servers_loop\u001b[0;34m(self, selector, timeout, address)\u001b[0m\n\u001b[1;32m    217\u001b[0m \u001b[39mif\u001b[39;00m timeout \u001b[39m==\u001b[39m \u001b[39m0\u001b[39m \u001b[39mor\u001b[39;00m now \u001b[39m>\u001b[39m end_time:\n\u001b[0;32m--> 218\u001b[0m     \u001b[39mraise\u001b[39;00m ServerSelectionTimeoutError(\n\u001b[1;32m    219\u001b[0m         \u001b[39m\"\u001b[39m\u001b[39m%s\u001b[39;00m\u001b[39m, Timeout: \u001b[39m\u001b[39m%s\u001b[39;00m\u001b[39ms, Topology Description: \u001b[39m\u001b[39m%r\u001b[39;00m\u001b[39m\"\u001b[39m \u001b[39m%\u001b[39m\n\u001b[1;32m    220\u001b[0m         (\u001b[39mself\u001b[39m\u001b[39m.\u001b[39m_error_message(selector), timeout, \u001b[39mself\u001b[39m\u001b[39m.\u001b[39mdescription))\n\u001b[1;32m    222\u001b[0m \u001b[39mself\u001b[39m\u001b[39m.\u001b[39m_ensure_opened()\n",
      "\u001b[0;31mServerSelectionTimeoutError\u001b[0m: localhost:27017: [Errno 111] Connection refused, Timeout: 30s, Topology Description: <TopologyDescription id: 633a86b2d3a8956a39e4ab6b, topology_type: Single, servers: [<ServerDescription ('localhost', 27017) server_type: Unknown, rtt: None, error=AutoReconnect('localhost:27017: [Errno 111] Connection refused')>]>",
      "\nThe above exception was the direct cause of the following exception:\n",
      "\u001b[0;31mConnectionError\u001b[0m                           Traceback (most recent call last)",
      "\u001b[1;32m/home/badboy-002/github/senior_project/mmdetection/ann_coco/fifityone_bac.ipynb Cell 1\u001b[0m in \u001b[0;36m<cell line: 1>\u001b[0;34m()\u001b[0m\n\u001b[0;32m----> <a href='vscode-notebook-cell:/home/badboy-002/github/senior_project/mmdetection/ann_coco/fifityone_bac.ipynb#ch0000000?line=0'>1</a>\u001b[0m \u001b[39mimport\u001b[39;00m \u001b[39mfiftyone\u001b[39;00m\n",
      "File \u001b[0;32m~/anaconda3/envs/senior_env/lib/python3.9/site-packages/fiftyone/__init__.py:25\u001b[0m, in \u001b[0;36m<module>\u001b[0;34m\u001b[0m\n\u001b[1;32m     21\u001b[0m \u001b[39mimport\u001b[39;00m \u001b[39mfiftyone\u001b[39;00m\u001b[39m.\u001b[39;00m\u001b[39mconstants\u001b[39;00m \u001b[39mas\u001b[39;00m \u001b[39m_foc\u001b[39;00m\n\u001b[1;32m     23\u001b[0m __version__ \u001b[39m=\u001b[39m _foc\u001b[39m.\u001b[39mVERSION\n\u001b[0;32m---> 25\u001b[0m \u001b[39mfrom\u001b[39;00m \u001b[39mfiftyone\u001b[39;00m\u001b[39m.\u001b[39;00m\u001b[39m__public__\u001b[39;00m \u001b[39mimport\u001b[39;00m \u001b[39m*\u001b[39m\n\u001b[1;32m     27\u001b[0m \u001b[39mimport\u001b[39;00m \u001b[39mfiftyone\u001b[39;00m\u001b[39m.\u001b[39;00m\u001b[39mcore\u001b[39;00m\u001b[39m.\u001b[39;00m\u001b[39muid\u001b[39;00m \u001b[39mas\u001b[39;00m \u001b[39m_fou\u001b[39;00m\n\u001b[1;32m     28\u001b[0m \u001b[39mimport\u001b[39;00m \u001b[39mfiftyone\u001b[39;00m\u001b[39m.\u001b[39;00m\u001b[39mcore\u001b[39;00m\u001b[39m.\u001b[39;00m\u001b[39mlogging\u001b[39;00m \u001b[39mas\u001b[39;00m \u001b[39m_fol\u001b[39;00m\n",
      "File \u001b[0;32m~/anaconda3/envs/senior_env/lib/python3.9/site-packages/fiftyone/__public__.py:15\u001b[0m, in \u001b[0;36m<module>\u001b[0;34m\u001b[0m\n\u001b[1;32m     12\u001b[0m annotation_config \u001b[39m=\u001b[39m _foc\u001b[39m.\u001b[39mload_annotation_config()\n\u001b[1;32m     13\u001b[0m app_config \u001b[39m=\u001b[39m _foc\u001b[39m.\u001b[39mload_app_config()\n\u001b[0;32m---> 15\u001b[0m _foo\u001b[39m.\u001b[39;49mestablish_db_conn(config)\n\u001b[1;32m     17\u001b[0m \u001b[39mfrom\u001b[39;00m \u001b[39m.\u001b[39;00m\u001b[39mcore\u001b[39;00m\u001b[39m.\u001b[39;00m\u001b[39maggregations\u001b[39;00m \u001b[39mimport\u001b[39;00m (\n\u001b[1;32m     18\u001b[0m     Aggregation,\n\u001b[1;32m     19\u001b[0m     Bounds,\n\u001b[0;32m   (...)\u001b[0m\n\u001b[1;32m     28\u001b[0m     Values,\n\u001b[1;32m     29\u001b[0m )\n\u001b[1;32m     30\u001b[0m \u001b[39mfrom\u001b[39;00m \u001b[39m.\u001b[39;00m\u001b[39mcore\u001b[39;00m\u001b[39m.\u001b[39;00m\u001b[39mcollections\u001b[39;00m \u001b[39mimport\u001b[39;00m SaveContext\n",
      "File \u001b[0;32m~/anaconda3/envs/senior_env/lib/python3.9/site-packages/fiftyone/core/odm/database.py:182\u001b[0m, in \u001b[0;36mestablish_db_conn\u001b[0;34m(config)\u001b[0m\n\u001b[1;32m    177\u001b[0m         \u001b[39mraise\u001b[39;00m error\n\u001b[1;32m    179\u001b[0m _client \u001b[39m=\u001b[39m pymongo\u001b[39m.\u001b[39mMongoClient(\n\u001b[1;32m    180\u001b[0m     \u001b[39m*\u001b[39m\u001b[39m*\u001b[39m_connection_kwargs, appname\u001b[39m=\u001b[39mfoc\u001b[39m.\u001b[39mDATABASE_APPNAME\n\u001b[1;32m    181\u001b[0m )\n\u001b[0;32m--> 182\u001b[0m _validate_db_version(config, _client)\n\u001b[1;32m    184\u001b[0m \u001b[39m# Register cleanup method\u001b[39;00m\n\u001b[1;32m    185\u001b[0m atexit\u001b[39m.\u001b[39mregister(_delete_non_persistent_datasets_if_allowed)\n",
      "File \u001b[0;32m~/anaconda3/envs/senior_env/lib/python3.9/site-packages/fiftyone/core/odm/database.py:257\u001b[0m, in \u001b[0;36m_validate_db_version\u001b[0;34m(config, client)\u001b[0m\n\u001b[1;32m    255\u001b[0m \u001b[39mexcept\u001b[39;00m \u001b[39mException\u001b[39;00m \u001b[39mas\u001b[39;00m e:\n\u001b[1;32m    256\u001b[0m     \u001b[39mif\u001b[39;00m \u001b[39misinstance\u001b[39m(e, ServerSelectionTimeoutError):\n\u001b[0;32m--> 257\u001b[0m         \u001b[39mraise\u001b[39;00m \u001b[39mConnectionError\u001b[39;00m(\u001b[39m\"\u001b[39m\u001b[39mCould not connect to `mongod`\u001b[39m\u001b[39m\"\u001b[39m) \u001b[39mfrom\u001b[39;00m \u001b[39me\u001b[39;00m\n\u001b[1;32m    259\u001b[0m     \u001b[39mraise\u001b[39;00m \u001b[39mRuntimeError\u001b[39;00m(\u001b[39m\"\u001b[39m\u001b[39mFailed to validate `mongod` version\u001b[39m\u001b[39m\"\u001b[39m) \u001b[39mfrom\u001b[39;00m \u001b[39me\u001b[39;00m\n\u001b[1;32m    261\u001b[0m \u001b[39mif\u001b[39;00m config\u001b[39m.\u001b[39mdatabase_validation \u001b[39mand\u001b[39;00m version \u001b[39m<\u001b[39m foc\u001b[39m.\u001b[39mMIN_MONGODB_VERSION:\n",
      "\u001b[0;31mConnectionError\u001b[0m: Could not connect to `mongod`"
     ]
    }
   ],
   "source": [
    "import fiftyone"
   ]
  },
  {
   "cell_type": "code",
   "execution_count": null,
   "metadata": {},
   "outputs": [],
   "source": []
  }
 ],
 "metadata": {
  "kernelspec": {
   "display_name": "Python 3.9.13 ('senior_env')",
   "language": "python",
   "name": "python3"
  },
  "language_info": {
   "codemirror_mode": {
    "name": "ipython",
    "version": 3
   },
   "file_extension": ".py",
   "mimetype": "text/x-python",
   "name": "python",
   "nbconvert_exporter": "python",
   "pygments_lexer": "ipython3",
   "version": "3.9.13"
  },
  "orig_nbformat": 4,
  "vscode": {
   "interpreter": {
    "hash": "7033d4964b482be62d01c968f7e58af1ed88d888764d2b1a6215fa6208d0b407"
   }
  }
 },
 "nbformat": 4,
 "nbformat_minor": 2
}
